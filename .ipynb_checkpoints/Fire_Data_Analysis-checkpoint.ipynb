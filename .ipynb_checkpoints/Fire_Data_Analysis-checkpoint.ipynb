{
 "cells": [
  {
   "cell_type": "code",
   "execution_count": 1,
   "metadata": {},
   "outputs": [],
   "source": [
    "import pandas as pd\n",
    "import numpy as np"
   ]
  },
  {
   "cell_type": "code",
   "execution_count": 2,
   "metadata": {},
   "outputs": [
    {
     "data": {
      "text/html": [
       "<div>\n",
       "<style scoped>\n",
       "    .dataframe tbody tr th:only-of-type {\n",
       "        vertical-align: middle;\n",
       "    }\n",
       "\n",
       "    .dataframe tbody tr th {\n",
       "        vertical-align: top;\n",
       "    }\n",
       "\n",
       "    .dataframe thead th {\n",
       "        text-align: right;\n",
       "    }\n",
       "</style>\n",
       "<table border=\"1\" class=\"dataframe\">\n",
       "  <thead>\n",
       "    <tr style=\"text-align: right;\">\n",
       "      <th></th>\n",
       "      <th>FPA_ID</th>\n",
       "      <th>FIRE_NAME</th>\n",
       "      <th>FIRE_YEAR</th>\n",
       "      <th>DISCOVERY_DOY</th>\n",
       "      <th>DISCOVERY_TIME</th>\n",
       "      <th>STAT_CAUSE_DESCR</th>\n",
       "      <th>CONT_DOY</th>\n",
       "      <th>CONT_TIME</th>\n",
       "      <th>FIRE_SIZE</th>\n",
       "      <th>FIRE_SIZE_CLASS</th>\n",
       "      <th>LATITUDE</th>\n",
       "      <th>LONGITUDE</th>\n",
       "      <th>OWNER_CODE</th>\n",
       "      <th>OWNER_DESCR</th>\n",
       "      <th>STATE</th>\n",
       "      <th>COUNTY</th>\n",
       "    </tr>\n",
       "  </thead>\n",
       "  <tbody>\n",
       "    <tr>\n",
       "      <th>0</th>\n",
       "      <td>FS-1418826</td>\n",
       "      <td>FOUNTAIN</td>\n",
       "      <td>2005</td>\n",
       "      <td>33</td>\n",
       "      <td>1300.0</td>\n",
       "      <td>Miscellaneous</td>\n",
       "      <td>33.0</td>\n",
       "      <td>1730.0</td>\n",
       "      <td>0.10</td>\n",
       "      <td>A</td>\n",
       "      <td>40.036944</td>\n",
       "      <td>-121.005833</td>\n",
       "      <td>5.0</td>\n",
       "      <td>USFS</td>\n",
       "      <td>CA</td>\n",
       "      <td>63</td>\n",
       "    </tr>\n",
       "    <tr>\n",
       "      <th>1</th>\n",
       "      <td>FS-1418827</td>\n",
       "      <td>PIGEON</td>\n",
       "      <td>2004</td>\n",
       "      <td>133</td>\n",
       "      <td>845.0</td>\n",
       "      <td>Lightning</td>\n",
       "      <td>133.0</td>\n",
       "      <td>1530.0</td>\n",
       "      <td>0.25</td>\n",
       "      <td>A</td>\n",
       "      <td>38.933056</td>\n",
       "      <td>-120.404444</td>\n",
       "      <td>5.0</td>\n",
       "      <td>USFS</td>\n",
       "      <td>CA</td>\n",
       "      <td>61</td>\n",
       "    </tr>\n",
       "    <tr>\n",
       "      <th>2</th>\n",
       "      <td>FS-1418835</td>\n",
       "      <td>SLACK</td>\n",
       "      <td>2004</td>\n",
       "      <td>152</td>\n",
       "      <td>1921.0</td>\n",
       "      <td>Debris Burning</td>\n",
       "      <td>152.0</td>\n",
       "      <td>2024.0</td>\n",
       "      <td>0.10</td>\n",
       "      <td>A</td>\n",
       "      <td>38.984167</td>\n",
       "      <td>-120.735556</td>\n",
       "      <td>13.0</td>\n",
       "      <td>STATE OR PRIVATE</td>\n",
       "      <td>CA</td>\n",
       "      <td>17</td>\n",
       "    </tr>\n",
       "    <tr>\n",
       "      <th>3</th>\n",
       "      <td>FS-1418845</td>\n",
       "      <td>DEER</td>\n",
       "      <td>2004</td>\n",
       "      <td>180</td>\n",
       "      <td>1600.0</td>\n",
       "      <td>Lightning</td>\n",
       "      <td>185.0</td>\n",
       "      <td>1400.0</td>\n",
       "      <td>0.10</td>\n",
       "      <td>A</td>\n",
       "      <td>38.559167</td>\n",
       "      <td>-119.913333</td>\n",
       "      <td>5.0</td>\n",
       "      <td>USFS</td>\n",
       "      <td>CA</td>\n",
       "      <td>3</td>\n",
       "    </tr>\n",
       "    <tr>\n",
       "      <th>4</th>\n",
       "      <td>FS-1418847</td>\n",
       "      <td>STEVENOT</td>\n",
       "      <td>2004</td>\n",
       "      <td>180</td>\n",
       "      <td>1600.0</td>\n",
       "      <td>Lightning</td>\n",
       "      <td>185.0</td>\n",
       "      <td>1200.0</td>\n",
       "      <td>0.10</td>\n",
       "      <td>A</td>\n",
       "      <td>38.559167</td>\n",
       "      <td>-119.933056</td>\n",
       "      <td>5.0</td>\n",
       "      <td>USFS</td>\n",
       "      <td>CA</td>\n",
       "      <td>3</td>\n",
       "    </tr>\n",
       "  </tbody>\n",
       "</table>\n",
       "</div>"
      ],
      "text/plain": [
       "       FPA_ID FIRE_NAME  FIRE_YEAR  DISCOVERY_DOY  DISCOVERY_TIME  \\\n",
       "0  FS-1418826  FOUNTAIN       2005             33          1300.0   \n",
       "1  FS-1418827    PIGEON       2004            133           845.0   \n",
       "2  FS-1418835     SLACK       2004            152          1921.0   \n",
       "3  FS-1418845      DEER       2004            180          1600.0   \n",
       "4  FS-1418847  STEVENOT       2004            180          1600.0   \n",
       "\n",
       "  STAT_CAUSE_DESCR  CONT_DOY  CONT_TIME  FIRE_SIZE FIRE_SIZE_CLASS   LATITUDE  \\\n",
       "0    Miscellaneous      33.0     1730.0       0.10               A  40.036944   \n",
       "1        Lightning     133.0     1530.0       0.25               A  38.933056   \n",
       "2   Debris Burning     152.0     2024.0       0.10               A  38.984167   \n",
       "3        Lightning     185.0     1400.0       0.10               A  38.559167   \n",
       "4        Lightning     185.0     1200.0       0.10               A  38.559167   \n",
       "\n",
       "    LONGITUDE  OWNER_CODE       OWNER_DESCR STATE COUNTY  \n",
       "0 -121.005833         5.0              USFS    CA     63  \n",
       "1 -120.404444         5.0              USFS    CA     61  \n",
       "2 -120.735556        13.0  STATE OR PRIVATE    CA     17  \n",
       "3 -119.913333         5.0              USFS    CA      3  \n",
       "4 -119.933056         5.0              USFS    CA      3  "
      ]
     },
     "execution_count": 2,
     "metadata": {},
     "output_type": "execute_result"
    }
   ],
   "source": [
    "fire_data_df = pd.read_csv(\"Fire_Data.csv\",low_memory=False)\n",
    "fire_data_df.head()"
   ]
  },
  {
   "cell_type": "code",
   "execution_count": 3,
   "metadata": {},
   "outputs": [],
   "source": [
    "yr_state_grp = fire_data_df.groupby([\"FIRE_YEAR\",\"STATE\"])\n",
    "avg_fire_size_df = pd.DataFrame(yr_state_grp.FIRE_SIZE.mean()).reset_index()"
   ]
  },
  {
   "cell_type": "code",
   "execution_count": 4,
   "metadata": {},
   "outputs": [
    {
     "data": {
      "text/plain": [
       "           STATE  FIRE_YEAR\n",
       "FIRE_SIZE  AK     1992         296.709771\n",
       "                  1993         798.131823\n",
       "                  1994         409.320156\n",
       "                  1995         105.172488\n",
       "                  1996         833.979387\n",
       "                                  ...    \n",
       "           WY     2011         210.672781\n",
       "                  2012         461.095086\n",
       "                  2013          93.497074\n",
       "                  2014          12.984689\n",
       "                  2015          58.261432\n",
       "Length: 1248, dtype: float64"
      ]
     },
     "execution_count": 4,
     "metadata": {},
     "output_type": "execute_result"
    }
   ],
   "source": [
    "avg_fire_size_pivot = avg_fire_size_df.pivot(\"FIRE_YEAR\",\"STATE\").unstack(fill_value=0)\n",
    "avg_fire_size_pivot"
   ]
  },
  {
   "cell_type": "code",
   "execution_count": 6,
   "metadata": {},
   "outputs": [
    {
     "data": {
      "text/plain": [
       "array([1992, 1993, 1994, 1995, 1996, 1997, 1998, 1999, 2000, 2001, 2002,\n",
       "       2003, 2004, 2005, 2006, 2007, 2008, 2009, 2010, 2011, 2012, 2013,\n",
       "       2014, 2015], dtype=int64)"
      ]
     },
     "execution_count": 6,
     "metadata": {},
     "output_type": "execute_result"
    }
   ],
   "source": [
    "years = np.arange(fire_data_df.FIRE_YEAR.min(),fire_data_df.FIRE_YEAR.max()+1)\n",
    "years"
   ]
  },
  {
   "cell_type": "code",
   "execution_count": 21,
   "metadata": {},
   "outputs": [],
   "source": [
    "ca_avg_fire_size = avg_fire_size_pivot.loc[:,[\"CA\"]]\n",
    "ga_avg_fire_size = avg_fire_size_pivot.loc[:,[\"GA\"]]\n",
    "tx_avg_fire_size = avg_fire_size_pivot.loc[:,[\"TX\"]]\n",
    "nc_avg_fire_size = avg_fire_size_pivot.loc[:,[\"NC\"]]"
   ]
  },
  {
   "cell_type": "code",
   "execution_count": 22,
   "metadata": {},
   "outputs": [
    {
     "data": {
      "image/png": "[encoded data removed]",
      "text/plain": [
       "<Figure size 432x288 with 1 Axes>"
      ]
     },
     "metadata": {
      "needs_background": "light"
     },
     "output_type": "display_data"
    }
   ],
   "source": [
    "import matplotlib.pyplot as plt\n",
    "plt.plot(years,ca_avg_fire_size)\n",
    "plt.plot(years,ga_avg_fire_size)\n",
    "plt.plot(years,tx_avg_fire_size)\n",
    "plt.plot(years,nc_avg_fire_size)\n",
    "plt.show()"
   ]
  },
  {
   "cell_type": "code",
   "execution_count": 12,
   "metadata": {},
   "outputs": [
    {
     "data": {
      "text/plain": [
       "Debris Burning       429028\n",
       "Miscellaneous        323805\n",
       "Arson                281455\n",
       "Lightning            278468\n",
       "Missing/Undefined    166723\n",
       "Equipment Use        147612\n",
       "Campfire              76139\n",
       "Children              61167\n",
       "Smoking               52869\n",
       "Railroad              33455\n",
       "Powerline             14448\n",
       "Fireworks             11500\n",
       "Structure              3796\n",
       "Name: STAT_CAUSE_DESCR, dtype: int64"
      ]
     },
     "execution_count": 12,
     "metadata": {},
     "output_type": "execute_result"
    }
   ],
   "source": [
    "fire_data_df.STAT_CAUSE_DESCR.value_counts()"
   ]
  },
  {
   "cell_type": "code",
   "execution_count": 13,
   "metadata": {},
   "outputs": [
    {
     "data": {
      "text/plain": [
       "B    939376\n",
       "A    666919\n",
       "C    220077\n",
       "D     28427\n",
       "E     14107\n",
       "F      7786\n",
       "G      3773\n",
       "Name: FIRE_SIZE_CLASS, dtype: int64"
      ]
     },
     "execution_count": 13,
     "metadata": {},
     "output_type": "execute_result"
    }
   ],
   "source": [
    "fire_data_df.FIRE_SIZE_CLASS.value_counts()"
   ]
  },
  {
   "cell_type": "code",
   "execution_count": 14,
   "metadata": {},
   "outputs": [
    {
     "data": {
      "text/plain": [
       "CA    189550\n",
       "GA    168867\n",
       "TX    142021\n",
       "NC    111277\n",
       "FL     90261\n",
       "SC     81315\n",
       "NY     80870\n",
       "MS     79230\n",
       "AZ     71586\n",
       "AL     66570\n",
       "OR     61088\n",
       "MN     44769\n",
       "OK     43239\n",
       "MT     40767\n",
       "NM     37478\n",
       "ID     36698\n",
       "CO     34157\n",
       "WA     33513\n",
       "WI     31861\n",
       "AR     31663\n",
       "TN     31154\n",
       "SD     30963\n",
       "UT     30725\n",
       "LA     30013\n",
       "KY     27089\n",
       "NJ     25949\n",
       "PR     22081\n",
       "WV     21967\n",
       "VA     21833\n",
       "MO     17953\n",
       "NV     16956\n",
       "ND     15201\n",
       "WY     14166\n",
       "ME     13150\n",
       "AK     12843\n",
       "MI     10502\n",
       "HI      9895\n",
       "PA      8712\n",
       "NE      7973\n",
       "KS      7673\n",
       "CT      4976\n",
       "IA      4134\n",
       "MD      3622\n",
       "OH      3479\n",
       "MA      2626\n",
       "NH      2452\n",
       "IL      2327\n",
       "IN      2098\n",
       "RI       480\n",
       "VT       456\n",
       "DE       171\n",
       "DC        66\n",
       "Name: STATE, dtype: int64"
      ]
     },
     "execution_count": 14,
     "metadata": {},
     "output_type": "execute_result"
    }
   ],
   "source": [
    "fire_data_df.STATE.value_counts()"
   ]
  },
  {
   "cell_type": "code",
   "execution_count": 15,
   "metadata": {},
   "outputs": [],
   "source": [
    "import gmaps\n",
    "from config import gkey\n",
    "# Configure gmaps with API key\n",
    "gmaps.configure(api_key=gkey)"
   ]
  },
  {
   "cell_type": "code",
   "execution_count": 16,
   "metadata": {},
   "outputs": [],
   "source": [
    "# Store locations \n",
    "locations = fire_data_df[[\"LATITUDE\", \"LONGITUDE\"]].astype(float)\n",
    "\n",
    "# Convert to float and store\n",
    "fire_size = fire_data_df[\"FIRE_SIZE\"].astype(float)"
   ]
  },
  {
   "cell_type": "code",
   "execution_count": 17,
   "metadata": {},
   "outputs": [
    {
     "data": {
      "application/vnd.jupyter.widget-view+json": {
       "model_id": "e0a87d62faea4cbf824d2d724e1fb362",
       "version_major": 2,
       "version_minor": 0
      },
      "text/plain": [
       "Figure(layout=FigureLayout(height='420px'))"
      ]
     },
     "metadata": {},
     "output_type": "display_data"
    }
   ],
   "source": [
    "# Create a Heatmap layer\n",
    "fig = gmaps.figure(map_type=\"TERRAIN\")\n",
    "\n",
    "heat_layer = gmaps.heatmap_layer(locations, weights=fire_size, \n",
    "                                 dissipating=False, max_intensity=10,\n",
    "                                 point_radius = .05)\n",
    "\n",
    "fig.add_layer(heat_layer)\n",
    "\n",
    "fig"
   ]
  },
  {
   "cell_type": "code",
   "execution_count": null,
   "metadata": {},
   "outputs": [],
   "source": []
  }
 ],
 "metadata": {
  "kernelspec": {
   "display_name": "Python 3",
   "language": "python",
   "name": "python3"
  },
  "language_info": {
   "codemirror_mode": {
    "name": "ipython",
    "version": 3
   },
   "file_extension": ".py",
   "mimetype": "text/x-python",
   "name": "python",
   "nbconvert_exporter": "python",
   "pygments_lexer": "ipython3",
   "version": "3.7.4"
  }
 },
 "nbformat": 4,
 "nbformat_minor": 4
}
