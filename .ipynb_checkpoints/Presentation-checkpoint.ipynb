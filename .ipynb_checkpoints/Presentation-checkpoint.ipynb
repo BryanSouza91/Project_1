{
 "cells": [
  {
   "cell_type": "markdown",
   "metadata": {},
   "source": [
    "# National Wildfire Study"
   ]
  },
  {
   "cell_type": "markdown",
   "metadata": {},
   "source": [
    "### Percentage of each Statistical Cause of Wildfires for California, Texas, Georgia, and North Carolina\n",
    "<img src=\"pie_charts_cause.png\">\n",
    "\n",
    "### Fire Size vs. Day of Year for California, Texas, Georgia, and North Carolina\n",
    "<img src=\"scatter_size_doy.png\">\n",
    "\n",
    "### Average Fire Size and Sum of Fire Size\n",
    "\n",
    "### California\n",
    "\n",
    "<img src=\"ca_line.png\">\n",
    "\n",
    "### Texas\n",
    "\n",
    "<img src=\"tx_line.png\">\n",
    "\n",
    "### Georgia\n",
    "\n",
    "<img src=\"ga_line.png\">\n",
    "\n",
    "### North Carolina\n",
    "\n",
    "<img src=\"nc_line.png\">\n",
    "\n",
    "### Map of all Wildfires in our Dataset\n",
    "<img src=\"all_years_size_map.png\">\n",
    "\n",
    "#### Focus on California\n",
    "<img src=\"ca_all_years_size_map.png\">\n",
    "\n",
    "#### Focus on Texas, Georgia, and North Carolina\n",
    "<img src=\"ga_nc_tx_all_years_size_map.png\">"
   ]
  },
  {
   "cell_type": "code",
   "execution_count": 34,
   "metadata": {
    "jupyter": {
     "source_hidden": true
    }
   },
   "outputs": [
    {
     "data": {
      "application/vnd.jupyter.widget-view+json": {
       "model_id": "20f59f8a71194187a12686616aa3e35a",
       "version_major": 2,
       "version_minor": 0
      },
      "text/plain": [
       "VBox(children=(HTML(value='<h3>Wildfires in the United States (1992-2015), by year</h3><h4>Data from <a href=\"…"
      ]
     },
     "metadata": {},
     "output_type": "display_data"
    }
   ],
   "source": [
    "import pandas as pd\n",
    "import gmaps\n",
    "from config import gkey\n",
    "from IPython.display import display\n",
    "import ipywidgets as widgets\n",
    "\n",
    "gmaps.configure(api_key=gkey)\n",
    "\n",
    "fire_data_df = pd.read_csv(\"Fire_Data.csv\",low_memory=False)\n",
    "class Fire_Data_Explorer(object):\n",
    "    \"\"\"\n",
    "    Jupyter widget for exploring the dataset.\n",
    "\n",
    "    The user uses the slider to choose a year. This renders\n",
    "    a heatmap of wildfires in that year.\n",
    "    Credit goes to Pascal Bugnion.\n",
    "    \"\"\"\n",
    "\n",
    "    def __init__(self, df):\n",
    "        self._df = df\n",
    "        self._heatmap = None\n",
    "        self._slider = None\n",
    "        initial_year = min(self._df['FIRE_YEAR'])\n",
    "\n",
    "        title_widget = widgets.HTML(\n",
    "            '<h3>Wildfires in the United States (1992-2015), by year</h3>'\n",
    "            '<h4>Data from <a href=\"https://www.fs.usda.gov/rds/archive/catalog/RDS-2013-0009.4 \">Forest Service Research Data Archive</a></h4>'\n",
    "        )\n",
    "\n",
    "        map_figure = self._render_map(initial_year)\n",
    "        controls = self._render_controls(initial_year)\n",
    "        self._container = widgets.VBox([title_widget, controls, map_figure])\n",
    "\n",
    "    def render(self):\n",
    "        display(self._container)\n",
    "\n",
    "    def _on_year_change(self, change):\n",
    "        year = self._slider.value\n",
    "        self._heatmap.locations = self._locations_for_year(year)\n",
    "        self._total_box.value = self._total_fires_text_for_year(year)\n",
    "        return self._container\n",
    "\n",
    "    def _render_map(self, initial_year):\n",
    "        fig = gmaps.figure(map_type='TERRAIN')\n",
    "        self._heatmap = gmaps.heatmap_layer(\n",
    "            self._locations_for_year(initial_year),\n",
    "            dissipating=False,\n",
    "            max_intensity=100,\n",
    "            point_radius=0.1\n",
    "        )\n",
    "        fig.add_layer(self._heatmap)\n",
    "        return fig\n",
    "\n",
    "    def _render_controls(self, initial_year):\n",
    "        self._slider = widgets.IntSlider(\n",
    "            value=initial_year,\n",
    "            min=min(self._df['FIRE_YEAR']),\n",
    "            max=max(self._df['FIRE_YEAR']),\n",
    "            description='Year',\n",
    "            continuous_update=False\n",
    "        )\n",
    "        self._total_box = widgets.Label(\n",
    "            value=self._total_fires_text_for_year(initial_year)\n",
    "        )\n",
    "        self._slider.observe(self._on_year_change, names='value')\n",
    "        controls = widgets.HBox(\n",
    "            [self._slider, self._total_box],\n",
    "            layout={'justify_content': 'space-between'}\n",
    "        )\n",
    "        return controls\n",
    "\n",
    "    def _locations_for_year(self, year):\n",
    "        return self._df[self._df['FIRE_YEAR'] == year][['LATITUDE', 'LONGITUDE']]\n",
    "\n",
    "    def _total_fires_for_year(self, year):\n",
    "        return int(self._df[self._df['FIRE_YEAR'] == year]['FIRE_YEAR'].count())\n",
    "\n",
    "    def _total_fires_text_for_year(self, year):\n",
    "        return '{} wildfires'.format(self._total_fires_for_year(year))\n",
    "\n",
    "\n",
    "Fire_Data_Explorer(fire_data_df).render()"
   ]
  },
  {
   "cell_type": "code",
   "execution_count": 41,
   "metadata": {
    "jupyter": {
     "source_hidden": true
    }
   },
   "outputs": [
    {
     "data": {
      "text/markdown": [
       "California Population Density is 253.91%"
      ],
      "text/plain": [
       "<IPython.core.display.Markdown object>"
      ]
     },
     "execution_count": 41,
     "metadata": {},
     "output_type": "execute_result"
    }
   ],
   "source": [
    "import requests\n",
    "from config import census_key\n",
    "from IPython.display import Markdown as md\n",
    "\n",
    "\n",
    "url= \"https://api.census.gov/data/2018/pep/population?get=GEONAME,DENSITY&for=state:*\"\n",
    "response = requests.get(url).json()\n",
    "\n",
    "md(f\"California Population Density is {round(float(response[5][1]),2)}%\")"
   ]
  },
  {
   "cell_type": "code",
   "execution_count": 42,
   "metadata": {
    "jupyter": {
     "source_hidden": true
    }
   },
   "outputs": [
    {
     "data": {
      "text/markdown": [
       "Georgia Population Density is 182.26%"
      ],
      "text/plain": [
       "<IPython.core.display.Markdown object>"
      ]
     },
     "execution_count": 42,
     "metadata": {},
     "output_type": "execute_result"
    }
   ],
   "source": [
    "md(f\"Georgia Population Density is {round(float(response[11][1]),2)}%\")"
   ]
  },
  {
   "cell_type": "code",
   "execution_count": 43,
   "metadata": {
    "jupyter": {
     "source_hidden": true
    }
   },
   "outputs": [
    {
     "data": {
      "text/markdown": [
       "Texas Population Density is 109.86%"
      ],
      "text/plain": [
       "<IPython.core.display.Markdown object>"
      ]
     },
     "execution_count": 43,
     "metadata": {},
     "output_type": "execute_result"
    }
   ],
   "source": [
    "md(f\"Texas Population Density is {round(float(response[-9][1]),2)}%\")"
   ]
  },
  {
   "cell_type": "code",
   "execution_count": 44,
   "metadata": {
    "jupyter": {
     "source_hidden": true
    }
   },
   "outputs": [
    {
     "data": {
      "text/markdown": [
       "North Carolina Population Density is 213.57%"
      ],
      "text/plain": [
       "<IPython.core.display.Markdown object>"
      ]
     },
     "execution_count": 44,
     "metadata": {},
     "output_type": "execute_result"
    }
   ],
   "source": [
    "md(f\"North Carolina Population Density is {round(float(response[-19][1]),2)}%\")"
   ]
  }
 ],
 "metadata": {
  "kernelspec": {
   "display_name": "Python 3",
   "language": "python",
   "name": "python3"
  },
  "language_info": {
   "codemirror_mode": {
    "name": "ipython",
    "version": 3
   },
   "file_extension": ".py",
   "mimetype": "text/x-python",
   "name": "python",
   "nbconvert_exporter": "python",
   "pygments_lexer": "ipython3",
   "version": "3.7.5"
  }
 },
 "nbformat": 4,
 "nbformat_minor": 4
}
