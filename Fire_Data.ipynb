{
 "cells": [
  {
   "cell_type": "code",
   "execution_count": 1,
   "metadata": {},
   "outputs": [],
   "source": [
    "import pandas as pd\n",
    "import numpy as np\n",
    "from sqlalchemy import create_engine"
   ]
  },
  {
   "cell_type": "code",
   "execution_count": 2,
   "metadata": {},
   "outputs": [],
   "source": [
    "engine = create_engine('sqlite:///Data/FPA_FOD_20170508.sqlite', echo=False)"
   ]
  },
  {
   "cell_type": "code",
   "execution_count": 6,
   "metadata": {},
   "outputs": [
    {
     "data": {
      "text/html": [
       "<div>\n",
       "<style scoped>\n",
       "    .dataframe tbody tr th:only-of-type {\n",
       "        vertical-align: middle;\n",
       "    }\n",
       "\n",
       "    .dataframe tbody tr th {\n",
       "        vertical-align: top;\n",
       "    }\n",
       "\n",
       "    .dataframe thead th {\n",
       "        text-align: right;\n",
       "    }\n",
       "</style>\n",
       "<table border=\"1\" class=\"dataframe\">\n",
       "  <thead>\n",
       "    <tr style=\"text-align: right;\">\n",
       "      <th></th>\n",
       "      <th>FPA_ID</th>\n",
       "      <th>FIRE_NAME</th>\n",
       "      <th>FIRE_YEAR</th>\n",
       "      <th>DISCOVERY_DATE</th>\n",
       "      <th>DISCOVERY_DOY</th>\n",
       "      <th>DISCOVERY_TIME</th>\n",
       "      <th>STAT_CAUSE_CODE</th>\n",
       "      <th>STAT_CAUSE_DESCR</th>\n",
       "      <th>CONT_DATE</th>\n",
       "      <th>CONT_DOY</th>\n",
       "      <th>CONT_TIME</th>\n",
       "      <th>FIRE_SIZE</th>\n",
       "      <th>FIRE_SIZE_CLASS</th>\n",
       "      <th>LATITUDE</th>\n",
       "      <th>LONGITUDE</th>\n",
       "      <th>OWNER_CODE</th>\n",
       "      <th>OWNER_DESCR</th>\n",
       "      <th>STATE</th>\n",
       "      <th>COUNTY</th>\n",
       "    </tr>\n",
       "    <tr>\n",
       "      <th>FOD_ID</th>\n",
       "      <th></th>\n",
       "      <th></th>\n",
       "      <th></th>\n",
       "      <th></th>\n",
       "      <th></th>\n",
       "      <th></th>\n",
       "      <th></th>\n",
       "      <th></th>\n",
       "      <th></th>\n",
       "      <th></th>\n",
       "      <th></th>\n",
       "      <th></th>\n",
       "      <th></th>\n",
       "      <th></th>\n",
       "      <th></th>\n",
       "      <th></th>\n",
       "      <th></th>\n",
       "      <th></th>\n",
       "      <th></th>\n",
       "    </tr>\n",
       "  </thead>\n",
       "  <tbody>\n",
       "    <tr>\n",
       "      <th>1</th>\n",
       "      <td>FS-1418826</td>\n",
       "      <td>FOUNTAIN</td>\n",
       "      <td>2005</td>\n",
       "      <td>2453403.5</td>\n",
       "      <td>33</td>\n",
       "      <td>1300</td>\n",
       "      <td>9.0</td>\n",
       "      <td>Miscellaneous</td>\n",
       "      <td>2453403.5</td>\n",
       "      <td>33.0</td>\n",
       "      <td>1730</td>\n",
       "      <td>0.10</td>\n",
       "      <td>A</td>\n",
       "      <td>40.036944</td>\n",
       "      <td>-121.005833</td>\n",
       "      <td>5.0</td>\n",
       "      <td>USFS</td>\n",
       "      <td>CA</td>\n",
       "      <td>63</td>\n",
       "    </tr>\n",
       "    <tr>\n",
       "      <th>2</th>\n",
       "      <td>FS-1418827</td>\n",
       "      <td>PIGEON</td>\n",
       "      <td>2004</td>\n",
       "      <td>2453137.5</td>\n",
       "      <td>133</td>\n",
       "      <td>0845</td>\n",
       "      <td>1.0</td>\n",
       "      <td>Lightning</td>\n",
       "      <td>2453137.5</td>\n",
       "      <td>133.0</td>\n",
       "      <td>1530</td>\n",
       "      <td>0.25</td>\n",
       "      <td>A</td>\n",
       "      <td>38.933056</td>\n",
       "      <td>-120.404444</td>\n",
       "      <td>5.0</td>\n",
       "      <td>USFS</td>\n",
       "      <td>CA</td>\n",
       "      <td>61</td>\n",
       "    </tr>\n",
       "    <tr>\n",
       "      <th>3</th>\n",
       "      <td>FS-1418835</td>\n",
       "      <td>SLACK</td>\n",
       "      <td>2004</td>\n",
       "      <td>2453156.5</td>\n",
       "      <td>152</td>\n",
       "      <td>1921</td>\n",
       "      <td>5.0</td>\n",
       "      <td>Debris Burning</td>\n",
       "      <td>2453156.5</td>\n",
       "      <td>152.0</td>\n",
       "      <td>2024</td>\n",
       "      <td>0.10</td>\n",
       "      <td>A</td>\n",
       "      <td>38.984167</td>\n",
       "      <td>-120.735556</td>\n",
       "      <td>13.0</td>\n",
       "      <td>STATE OR PRIVATE</td>\n",
       "      <td>CA</td>\n",
       "      <td>17</td>\n",
       "    </tr>\n",
       "    <tr>\n",
       "      <th>4</th>\n",
       "      <td>FS-1418845</td>\n",
       "      <td>DEER</td>\n",
       "      <td>2004</td>\n",
       "      <td>2453184.5</td>\n",
       "      <td>180</td>\n",
       "      <td>1600</td>\n",
       "      <td>1.0</td>\n",
       "      <td>Lightning</td>\n",
       "      <td>2453189.5</td>\n",
       "      <td>185.0</td>\n",
       "      <td>1400</td>\n",
       "      <td>0.10</td>\n",
       "      <td>A</td>\n",
       "      <td>38.559167</td>\n",
       "      <td>-119.913333</td>\n",
       "      <td>5.0</td>\n",
       "      <td>USFS</td>\n",
       "      <td>CA</td>\n",
       "      <td>3</td>\n",
       "    </tr>\n",
       "    <tr>\n",
       "      <th>5</th>\n",
       "      <td>FS-1418847</td>\n",
       "      <td>STEVENOT</td>\n",
       "      <td>2004</td>\n",
       "      <td>2453184.5</td>\n",
       "      <td>180</td>\n",
       "      <td>1600</td>\n",
       "      <td>1.0</td>\n",
       "      <td>Lightning</td>\n",
       "      <td>2453189.5</td>\n",
       "      <td>185.0</td>\n",
       "      <td>1200</td>\n",
       "      <td>0.10</td>\n",
       "      <td>A</td>\n",
       "      <td>38.559167</td>\n",
       "      <td>-119.933056</td>\n",
       "      <td>5.0</td>\n",
       "      <td>USFS</td>\n",
       "      <td>CA</td>\n",
       "      <td>3</td>\n",
       "    </tr>\n",
       "  </tbody>\n",
       "</table>\n",
       "</div>"
      ],
      "text/plain": [
       "            FPA_ID FIRE_NAME  FIRE_YEAR  DISCOVERY_DATE  DISCOVERY_DOY  \\\n",
       "FOD_ID                                                                   \n",
       "1       FS-1418826  FOUNTAIN       2005       2453403.5             33   \n",
       "2       FS-1418827    PIGEON       2004       2453137.5            133   \n",
       "3       FS-1418835     SLACK       2004       2453156.5            152   \n",
       "4       FS-1418845      DEER       2004       2453184.5            180   \n",
       "5       FS-1418847  STEVENOT       2004       2453184.5            180   \n",
       "\n",
       "       DISCOVERY_TIME  STAT_CAUSE_CODE STAT_CAUSE_DESCR  CONT_DATE  CONT_DOY  \\\n",
       "FOD_ID                                                                         \n",
       "1                1300              9.0    Miscellaneous  2453403.5      33.0   \n",
       "2                0845              1.0        Lightning  2453137.5     133.0   \n",
       "3                1921              5.0   Debris Burning  2453156.5     152.0   \n",
       "4                1600              1.0        Lightning  2453189.5     185.0   \n",
       "5                1600              1.0        Lightning  2453189.5     185.0   \n",
       "\n",
       "       CONT_TIME  FIRE_SIZE FIRE_SIZE_CLASS   LATITUDE   LONGITUDE  \\\n",
       "FOD_ID                                                               \n",
       "1           1730       0.10               A  40.036944 -121.005833   \n",
       "2           1530       0.25               A  38.933056 -120.404444   \n",
       "3           2024       0.10               A  38.984167 -120.735556   \n",
       "4           1400       0.10               A  38.559167 -119.913333   \n",
       "5           1200       0.10               A  38.559167 -119.933056   \n",
       "\n",
       "        OWNER_CODE       OWNER_DESCR STATE COUNTY  \n",
       "FOD_ID                                             \n",
       "1              5.0              USFS    CA     63  \n",
       "2              5.0              USFS    CA     61  \n",
       "3             13.0  STATE OR PRIVATE    CA     17  \n",
       "4              5.0              USFS    CA      3  \n",
       "5              5.0              USFS    CA      3  "
      ]
     },
     "execution_count": 6,
     "metadata": {},
     "output_type": "execute_result"
    }
   ],
   "source": [
    "fires_df = pd.read_sql(sql=\"Fires\",con=engine,index_col='FOD_ID',columns=['FPA_ID','FIRE_NAME','FIRE_YEAR','DISCOVERY_DATE','DISCOVERY_DOY','DISCOVERY_TIME','STAT_CAUSE_CODE','STAT_CAUSE_DESCR','CONT_DATE','CONT_DOY','CONT_TIME','FIRE_SIZE','FIRE_SIZE_CLASS','LATITUDE','LONGITUDE','OWNER_CODE','OWNER_DESCR','STATE','COUNTY'])\n",
    "fires_df.head()"
   ]
  },
  {
   "cell_type": "code",
   "execution_count": 7,
   "metadata": {},
   "outputs": [],
   "source": [
    "fires_df.to_csv('Fire_Data.csv',index=False)"
   ]
  },
  {
   "cell_type": "code",
   "execution_count": 8,
   "metadata": {},
   "outputs": [
    {
     "data": {
      "text/plain": [
       "1880465"
      ]
     },
     "execution_count": 8,
     "metadata": {},
     "output_type": "execute_result"
    }
   ],
   "source": [
    "len(fires_df)"
   ]
  },
  {
   "cell_type": "code",
   "execution_count": 9,
   "metadata": {},
   "outputs": [
    {
     "data": {
      "text/plain": [
       "Debris Burning       429028\n",
       "Miscellaneous        323805\n",
       "Arson                281455\n",
       "Lightning            278468\n",
       "Missing/Undefined    166723\n",
       "Equipment Use        147612\n",
       "Campfire              76139\n",
       "Children              61167\n",
       "Smoking               52869\n",
       "Railroad              33455\n",
       "Powerline             14448\n",
       "Fireworks             11500\n",
       "Structure              3796\n",
       "Name: STAT_CAUSE_DESCR, dtype: int64"
      ]
     },
     "execution_count": 9,
     "metadata": {},
     "output_type": "execute_result"
    }
   ],
   "source": [
    "fires_df.STAT_CAUSE_DESCR.value_counts()"
   ]
  },
  {
   "cell_type": "code",
   "execution_count": 10,
   "metadata": {},
   "outputs": [
    {
     "data": {
      "text/plain": [
       "B    939376\n",
       "A    666919\n",
       "C    220077\n",
       "D     28427\n",
       "E     14107\n",
       "F      7786\n",
       "G      3773\n",
       "Name: FIRE_SIZE_CLASS, dtype: int64"
      ]
     },
     "execution_count": 10,
     "metadata": {},
     "output_type": "execute_result"
    }
   ],
   "source": [
    "fires_df.FIRE_SIZE_CLASS.value_counts()"
   ]
  },
  {
   "cell_type": "code",
   "execution_count": 13,
   "metadata": {},
   "outputs": [
    {
     "data": {
      "text/plain": [
       "CA    189550\n",
       "GA    168867\n",
       "TX    142021\n",
       "NC    111277\n",
       "FL     90261\n",
       "SC     81315\n",
       "NY     80870\n",
       "MS     79230\n",
       "AZ     71586\n",
       "AL     66570\n",
       "OR     61088\n",
       "MN     44769\n",
       "OK     43239\n",
       "MT     40767\n",
       "NM     37478\n",
       "ID     36698\n",
       "CO     34157\n",
       "WA     33513\n",
       "WI     31861\n",
       "AR     31663\n",
       "TN     31154\n",
       "SD     30963\n",
       "UT     30725\n",
       "LA     30013\n",
       "KY     27089\n",
       "NJ     25949\n",
       "PR     22081\n",
       "WV     21967\n",
       "VA     21833\n",
       "MO     17953\n",
       "NV     16956\n",
       "ND     15201\n",
       "WY     14166\n",
       "ME     13150\n",
       "AK     12843\n",
       "MI     10502\n",
       "HI      9895\n",
       "PA      8712\n",
       "NE      7973\n",
       "KS      7673\n",
       "CT      4976\n",
       "IA      4134\n",
       "MD      3622\n",
       "OH      3479\n",
       "MA      2626\n",
       "NH      2452\n",
       "IL      2327\n",
       "IN      2098\n",
       "RI       480\n",
       "VT       456\n",
       "DE       171\n",
       "DC        66\n",
       "Name: STATE, dtype: int64"
      ]
     },
     "execution_count": 13,
     "metadata": {},
     "output_type": "execute_result"
    }
   ],
   "source": [
    "fires_df.STATE.value_counts()"
   ]
  },
  {
   "cell_type": "code",
   "execution_count": null,
   "metadata": {},
   "outputs": [],
   "source": []
  }
 ],
 "metadata": {
  "kernelspec": {
   "display_name": "Python 3",
   "language": "python",
   "name": "python3"
  },
  "language_info": {
   "codemirror_mode": {
    "name": "ipython",
    "version": 3
   },
   "file_extension": ".py",
   "mimetype": "text/x-python",
   "name": "python",
   "nbconvert_exporter": "python",
   "pygments_lexer": "ipython3",
   "version": "3.7.4"
  }
 },
 "nbformat": 4,
 "nbformat_minor": 4
}
