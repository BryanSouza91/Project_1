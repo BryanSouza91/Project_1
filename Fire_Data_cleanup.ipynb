{
 "cells": [
  {
   "cell_type": "code",
   "execution_count": 9,
   "metadata": {},
   "outputs": [],
   "source": [
    "import pandas as pd\n",
    "import numpy as np\n",
    "from sqlalchemy import create_engine\n",
    "import datetime"
   ]
  },
  {
   "cell_type": "code",
   "execution_count": 10,
   "metadata": {},
   "outputs": [],
   "source": [
    "engine = create_engine('sqlite:///Data/FPA_FOD_20170508.sqlite', echo=False)"
   ]
  },
  {
   "cell_type": "code",
   "execution_count": 22,
   "metadata": {},
   "outputs": [
    {
     "data": {
      "text/html": [
       "<div>\n",
       "<style scoped>\n",
       "    .dataframe tbody tr th:only-of-type {\n",
       "        vertical-align: middle;\n",
       "    }\n",
       "\n",
       "    .dataframe tbody tr th {\n",
       "        vertical-align: top;\n",
       "    }\n",
       "\n",
       "    .dataframe thead th {\n",
       "        text-align: right;\n",
       "    }\n",
       "</style>\n",
       "<table border=\"1\" class=\"dataframe\">\n",
       "  <thead>\n",
       "    <tr style=\"text-align: right;\">\n",
       "      <th></th>\n",
       "      <th>FPA_ID</th>\n",
       "      <th>FIRE_NAME</th>\n",
       "      <th>FIRE_YEAR</th>\n",
       "      <th>DISCOVERY_DOY</th>\n",
       "      <th>CONT_DOY</th>\n",
       "      <th>FIRE_SIZE</th>\n",
       "      <th>FIRE_SIZE_CLASS</th>\n",
       "      <th>LATITUDE</th>\n",
       "      <th>LONGITUDE</th>\n",
       "      <th>STATE</th>\n",
       "      <th>COUNTY</th>\n",
       "      <th>STAT_CAUSE_DESCR</th>\n",
       "      <th>OWNER_CODE</th>\n",
       "      <th>OWNER_DESCR</th>\n",
       "    </tr>\n",
       "    <tr>\n",
       "      <th>FOD_ID</th>\n",
       "      <th></th>\n",
       "      <th></th>\n",
       "      <th></th>\n",
       "      <th></th>\n",
       "      <th></th>\n",
       "      <th></th>\n",
       "      <th></th>\n",
       "      <th></th>\n",
       "      <th></th>\n",
       "      <th></th>\n",
       "      <th></th>\n",
       "      <th></th>\n",
       "      <th></th>\n",
       "      <th></th>\n",
       "    </tr>\n",
       "  </thead>\n",
       "  <tbody>\n",
       "    <tr>\n",
       "      <th>1</th>\n",
       "      <td>FS-1418826</td>\n",
       "      <td>FOUNTAIN</td>\n",
       "      <td>2005</td>\n",
       "      <td>33</td>\n",
       "      <td>33.0</td>\n",
       "      <td>0.10</td>\n",
       "      <td>A</td>\n",
       "      <td>40.036944</td>\n",
       "      <td>-121.005833</td>\n",
       "      <td>CA</td>\n",
       "      <td>63</td>\n",
       "      <td>Miscellaneous</td>\n",
       "      <td>5.0</td>\n",
       "      <td>USFS</td>\n",
       "    </tr>\n",
       "    <tr>\n",
       "      <th>2</th>\n",
       "      <td>FS-1418827</td>\n",
       "      <td>PIGEON</td>\n",
       "      <td>2004</td>\n",
       "      <td>133</td>\n",
       "      <td>133.0</td>\n",
       "      <td>0.25</td>\n",
       "      <td>A</td>\n",
       "      <td>38.933056</td>\n",
       "      <td>-120.404444</td>\n",
       "      <td>CA</td>\n",
       "      <td>61</td>\n",
       "      <td>Lightning</td>\n",
       "      <td>5.0</td>\n",
       "      <td>USFS</td>\n",
       "    </tr>\n",
       "    <tr>\n",
       "      <th>3</th>\n",
       "      <td>FS-1418835</td>\n",
       "      <td>SLACK</td>\n",
       "      <td>2004</td>\n",
       "      <td>152</td>\n",
       "      <td>152.0</td>\n",
       "      <td>0.10</td>\n",
       "      <td>A</td>\n",
       "      <td>38.984167</td>\n",
       "      <td>-120.735556</td>\n",
       "      <td>CA</td>\n",
       "      <td>17</td>\n",
       "      <td>Debris Burning</td>\n",
       "      <td>13.0</td>\n",
       "      <td>STATE OR PRIVATE</td>\n",
       "    </tr>\n",
       "    <tr>\n",
       "      <th>4</th>\n",
       "      <td>FS-1418845</td>\n",
       "      <td>DEER</td>\n",
       "      <td>2004</td>\n",
       "      <td>180</td>\n",
       "      <td>185.0</td>\n",
       "      <td>0.10</td>\n",
       "      <td>A</td>\n",
       "      <td>38.559167</td>\n",
       "      <td>-119.913333</td>\n",
       "      <td>CA</td>\n",
       "      <td>3</td>\n",
       "      <td>Lightning</td>\n",
       "      <td>5.0</td>\n",
       "      <td>USFS</td>\n",
       "    </tr>\n",
       "    <tr>\n",
       "      <th>5</th>\n",
       "      <td>FS-1418847</td>\n",
       "      <td>STEVENOT</td>\n",
       "      <td>2004</td>\n",
       "      <td>180</td>\n",
       "      <td>185.0</td>\n",
       "      <td>0.10</td>\n",
       "      <td>A</td>\n",
       "      <td>38.559167</td>\n",
       "      <td>-119.933056</td>\n",
       "      <td>CA</td>\n",
       "      <td>3</td>\n",
       "      <td>Lightning</td>\n",
       "      <td>5.0</td>\n",
       "      <td>USFS</td>\n",
       "    </tr>\n",
       "  </tbody>\n",
       "</table>\n",
       "</div>"
      ],
      "text/plain": [
       "            FPA_ID FIRE_NAME  FIRE_YEAR  DISCOVERY_DOY  CONT_DOY  FIRE_SIZE  \\\n",
       "FOD_ID                                                                        \n",
       "1       FS-1418826  FOUNTAIN       2005             33      33.0       0.10   \n",
       "2       FS-1418827    PIGEON       2004            133     133.0       0.25   \n",
       "3       FS-1418835     SLACK       2004            152     152.0       0.10   \n",
       "4       FS-1418845      DEER       2004            180     185.0       0.10   \n",
       "5       FS-1418847  STEVENOT       2004            180     185.0       0.10   \n",
       "\n",
       "       FIRE_SIZE_CLASS   LATITUDE   LONGITUDE STATE COUNTY STAT_CAUSE_DESCR  \\\n",
       "FOD_ID                                                                        \n",
       "1                    A  40.036944 -121.005833    CA     63    Miscellaneous   \n",
       "2                    A  38.933056 -120.404444    CA     61        Lightning   \n",
       "3                    A  38.984167 -120.735556    CA     17   Debris Burning   \n",
       "4                    A  38.559167 -119.913333    CA      3        Lightning   \n",
       "5                    A  38.559167 -119.933056    CA      3        Lightning   \n",
       "\n",
       "        OWNER_CODE       OWNER_DESCR  \n",
       "FOD_ID                                \n",
       "1              5.0              USFS  \n",
       "2              5.0              USFS  \n",
       "3             13.0  STATE OR PRIVATE  \n",
       "4              5.0              USFS  \n",
       "5              5.0              USFS  "
      ]
     },
     "execution_count": 22,
     "metadata": {},
     "output_type": "execute_result"
    }
   ],
   "source": [
    "fires_df = pd.read_sql(sql=\"Fires\",con=engine,index_col='FOD_ID',columns=['FPA_ID','FIRE_NAME','FIRE_YEAR','DISCOVERY_DOY','CONT_DOY','FIRE_SIZE','FIRE_SIZE_CLASS','LATITUDE','LONGITUDE','STATE','COUNTY','STAT_CAUSE_DESCR','OWNER_CODE','OWNER_DESCR'])\n",
    "fires_df.head()"
   ]
  },
  {
   "cell_type": "code",
   "execution_count": 23,
   "metadata": {},
   "outputs": [],
   "source": [
    "fires_df[\"DAYS_TO_CONT\"] = fires_df.CONT_DOY.sub(fires_df.DISCOVERY_DOY)"
   ]
  },
  {
   "cell_type": "code",
   "execution_count": 24,
   "metadata": {},
   "outputs": [
    {
     "data": {
      "text/plain": [
       "False    988934\n",
       "True     891531\n",
       "Name: DAYS_TO_CONT, dtype: int64"
      ]
     },
     "execution_count": 24,
     "metadata": {},
     "output_type": "execute_result"
    }
   ],
   "source": [
    "fires_df.DAYS_TO_CONT.isnull().value_counts()"
   ]
  },
  {
   "cell_type": "code",
   "execution_count": 20,
   "metadata": {},
   "outputs": [],
   "source": [
    "# The \"DATES\" from the dataset are in an unknown format. supposedly it is the format (mm/dd/yyyy) \n",
    "# fires_df[\"__DISCOVERY_DATE\"] = (fires_df.DISCOVERY_DATE.values*442).astype('datetime64[s]')\n",
    "# fires_df[\"__CONT_DATE\"] = (fires_df.CONT_DATE.values*442).astype('datetime64[s]')"
   ]
  },
  {
   "cell_type": "code",
   "execution_count": 25,
   "metadata": {},
   "outputs": [
    {
     "name": "stdout",
     "output_type": "stream",
     "text": [
      "17min 38s ± 0 ns per loop (mean ± std. dev. of 1 run, 1 loop each)\n"
     ]
    }
   ],
   "source": [
    "%%timeit -n 1 -r 1\n",
    "# THIS WILL TAKE 78 HOURS TO RUN without .dropna or .head()\n",
    "for row in fires_df.dropna(how='any').head(16277).iterrows():\n",
    "    disc_year = row[1][2]\n",
    "    disc_doy = row[1][3]\n",
    "    cont_doy = row[1][4]\n",
    "    if cont_doy < disc_doy:\n",
    "        cont_year = row[1][2] + 1\n",
    "    else:\n",
    "        cont_year = row[1][2]\n",
    "    try:\n",
    "        fires_df.loc[row[0],\"__DISCOVERY_DATE\"] = (datetime.datetime(disc_year, 1, 1) + datetime.timedelta(disc_doy - 1))\n",
    "        fires_df.loc[row[0],\"__CONT_DATE\"] = (datetime.datetime(cont_year, 1, 1) + datetime.timedelta(cont_doy - 1))\n",
    "    except ValueError:\n",
    "        pass"
   ]
  },
  {
   "cell_type": "code",
   "execution_count": 26,
   "metadata": {},
   "outputs": [],
   "source": [
    "fires_df.to_csv('Fire_Data.csv',index=False)"
   ]
  },
  {
   "cell_type": "code",
   "execution_count": 28,
   "metadata": {},
   "outputs": [],
   "source": [
    "np.save(\"Fire_Data.npy\",fires_df)"
   ]
  },
  {
   "cell_type": "code",
   "execution_count": null,
   "metadata": {},
   "outputs": [],
   "source": []
  }
 ],
 "metadata": {
  "kernelspec": {
   "display_name": "Python 3",
   "language": "python",
   "name": "python3"
  },
  "language_info": {
   "codemirror_mode": {
    "name": "ipython",
    "version": 3
   },
   "file_extension": ".py",
   "mimetype": "text/x-python",
   "name": "python",
   "nbconvert_exporter": "python",
   "pygments_lexer": "ipython3",
   "version": "3.7.5"
  }
 },
 "nbformat": 4,
 "nbformat_minor": 4
}
